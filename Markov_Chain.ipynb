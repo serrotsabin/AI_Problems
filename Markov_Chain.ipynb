{
 "cells": [
  {
   "cell_type": "code",
   "execution_count": 1,
   "metadata": {},
   "outputs": [],
   "source": [
    "import numpy as np \n",
    "import random as rn "
   ]
  },
  {
   "cell_type": "code",
   "execution_count": 9,
   "metadata": {},
   "outputs": [],
   "source": [
    "states=[\"Sunny\",\"Overcast\",\"Rainy\"]\n",
    "transitionName=[[\"SS\",\"SO\",\"SR\"],[\"OS\",\"OO\",\"OR\"],[\"RS\",\"RO\",\"RR\"]]\n",
    "transitionMatrix=[[0.6,0.2,0.2],[0.1,0.6,0.3],[0.2,0.4,0.4]]"
   ]
  },
  {
   "cell_type": "code",
   "execution_count": 14,
   "metadata": {},
   "outputs": [
    {
     "name": "stdout",
     "output_type": "stream",
     "text": [
      "Everything looks fine!!\n"
     ]
    }
   ],
   "source": [
    "if int(sum([x for i in transitionMatrix for x in i]))!=3:\n",
    "    print (\"Something is wrong. Please check your data!!\")\n",
    "else:\n",
    "    print (\"Everything looks fine!!\")"
   ]
  },
  {
   "cell_type": "code",
   "execution_count": 19,
   "metadata": {},
   "outputs": [],
   "source": [
    "def activity_forecast(days):\n",
    "    activityToday=\"Sunny\"\n",
    "    print(\"Start state: \" + activityToday)\n",
    "    activityList=[activityToday]\n",
    "    i=0\n",
    "    prob=1\n",
    "    while i!=days:\n",
    "        if activityToday==\"Sunny\":\n",
    "            change=np.random.choice(transitionName[0],replace=True,p=transitionMatrix[0])\n",
    "            if change==\"SS\":\n",
    "                prob*=0.6\n",
    "                activityList.append('Sunny')\n",
    "                pass\n",
    "            elif change==\"SO\":\n",
    "                prob*=0.2\n",
    "                activityList.append('Overcast')\n",
    "                pass\n",
    "            else:\n",
    "                prob*=0.2\n",
    "                activityList.append('Rainy')\n",
    "                pass\n",
    "        \n",
    "        elif activityToday==\"Overcast\":\n",
    "            change=np.random.choice(transitionName[1],replace=True,p=transitionMatrix[1])\n",
    "            if change==\"OS\":\n",
    "                prob*=0.1\n",
    "                activityList.append('Sunny')\n",
    "                pass\n",
    "            elif change==\"OO\":\n",
    "                prob*=0.6\n",
    "                activityList.append('Overcast')\n",
    "                pass\n",
    "            else:\n",
    "                prob*=0.3\n",
    "                activityList.append('Rainy')\n",
    "                pass\n",
    "        \n",
    "        else: \n",
    "            change=np.random.choice(transitionName[2],replace=True,p=transitionMatrix[2])\n",
    "            if change==\"RS\":\n",
    "                prob*=0.2\n",
    "                activityList.append('Sunny')\n",
    "                pass\n",
    "            elif change==\"RO\":\n",
    "                prob*=0.4\n",
    "                activityList.append('Overcast')\n",
    "                pass\n",
    "            else:\n",
    "                prob*=0.4\n",
    "                activityList.append('Rainy')\n",
    "                pass\n",
    "        \n",
    "        i+=1\n",
    "        \n",
    "    print(\"Possible states: \" + str(activityList))\n",
    "    print(\"End state after \"+ str(days) + \" days: \" + activityToday)\n",
    "    print(\"Probability of the possible sequence of states: \" + str(prob))\n",
    "    return activityList"
   ]
  },
  {
   "cell_type": "code",
   "execution_count": 20,
   "metadata": {},
   "outputs": [
    {
     "name": "stdout",
     "output_type": "stream",
     "text": [
      "Start state: Sunny\n",
      "Possible states: ['Sunny', 'Overcast', 'Overcast']\n",
      "End state after 2 days: Sunny\n",
      "Probability of the possible sequence of states: 0.04000000000000001\n"
     ]
    },
    {
     "data": {
      "text/plain": [
       "['Sunny', 'Overcast', 'Overcast']"
      ]
     },
     "execution_count": 20,
     "metadata": {},
     "output_type": "execute_result"
    }
   ],
   "source": [
    "activity_forecast(2)"
   ]
  },
  {
   "cell_type": "code",
   "execution_count": 24,
   "metadata": {},
   "outputs": [],
   "source": [
    "def activity_forecast(days):\n",
    "    activityToday=\"Sunny\"\n",
    "    activityList=[activityToday]\n",
    "    i=0\n",
    "    prob=1\n",
    "    while i!=days:\n",
    "        if activityToday==\"Sunny\":\n",
    "            change=np.random.choice(transitionName[0],replace=True,p=transitionMatrix[0])\n",
    "            if change==\"SS\":\n",
    "                prob*=0.6\n",
    "                activityList.append('Sunny')\n",
    "                pass\n",
    "            elif change==\"SO\":\n",
    "                prob*=0.2\n",
    "                activityList.append('Overcast')\n",
    "                pass\n",
    "            else:\n",
    "                prob*=0.2\n",
    "                activityList.append('Rainy')\n",
    "                pass\n",
    "        \n",
    "        elif activityToday==\"Overcast\":\n",
    "            change=np.random.choice(transitionName[1],replace=True,p=transitionMatrix[1])\n",
    "            if change==\"OS\":\n",
    "                prob*=0.1\n",
    "                activityList.append('Sunny')\n",
    "                pass\n",
    "            elif change==\"OO\":\n",
    "                prob*=0.6\n",
    "                activityList.append('Overcast')\n",
    "                pass\n",
    "            else:\n",
    "                prob*=0.3\n",
    "                activityList.append('Rainy')\n",
    "                pass\n",
    "        \n",
    "        else: \n",
    "            change=np.random.choice(transitionName[2],replace=True,p=transitionMatrix[2])\n",
    "            if change==\"RS\":\n",
    "                prob*=0.2\n",
    "                activityList.append('Sunny')\n",
    "                pass\n",
    "            elif change==\"RO\":\n",
    "                prob*=0.4\n",
    "                activityList.append('Overcast')\n",
    "                pass\n",
    "            else:\n",
    "                prob*=0.4\n",
    "                activityList.append('Rainy')\n",
    "                pass\n",
    "        \n",
    "        i+=1\n",
    "        return activityList"
   ]
  },
  {
   "cell_type": "code",
   "execution_count": 25,
   "metadata": {},
   "outputs": [
    {
     "name": "stdout",
     "output_type": "stream",
     "text": [
      "The probability for starting with Sunny and end with Rainy is 0.1992\n"
     ]
    }
   ],
   "source": [
    "listActivity=[]\n",
    "count=0\n",
    "for iteration in range(10000):\n",
    "    listActivity.append(activity_forecast(2))\n",
    "\n",
    "for smaller_list in listActivity:\n",
    "    if smaller_list[1]=='Rainy':\n",
    "        count+=1\n",
    "        \n",
    "prob=count/10000\n",
    "print (\"The probability for starting with Sunny and end with Rainy is \"+str(prob))"
   ]
  },
  {
   "cell_type": "code",
   "execution_count": null,
   "metadata": {},
   "outputs": [],
   "source": []
  }
 ],
 "metadata": {
  "kernelspec": {
   "display_name": "Python 3",
   "language": "python",
   "name": "python3"
  },
  "language_info": {
   "codemirror_mode": {
    "name": "ipython",
    "version": 3
   },
   "file_extension": ".py",
   "mimetype": "text/x-python",
   "name": "python",
   "nbconvert_exporter": "python",
   "pygments_lexer": "ipython3",
   "version": "3.6.7"
  }
 },
 "nbformat": 4,
 "nbformat_minor": 2
}
